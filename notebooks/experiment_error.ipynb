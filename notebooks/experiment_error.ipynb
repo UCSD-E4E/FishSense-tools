{
 "cells": [
  {
   "cell_type": "markdown",
   "id": "9f4445e3",
   "metadata": {},
   "source": [
    "Depth equation: \n",
    "$$ z = \\frac{fB}{xw} $$\n",
    "Depth resolution equation: \n",
    "$$\\frac{\\partial z}{\\partial x} = -\\frac{wz^2}{fB}$$\n",
    "\n",
    "Length resolution equation: \n",
    "$$\\frac{\\partial l}{\\partial x}  = -\\frac{z^2w^2p}{f^2B}$$"
   ]
  },
  {
   "cell_type": "code",
   "execution_count": 1,
   "id": "a4428752",
   "metadata": {},
   "outputs": [],
   "source": [
    "import numpy as np"
   ]
  },
  {
   "cell_type": "code",
   "execution_count": 74,
   "id": "a647657e",
   "metadata": {},
   "outputs": [],
   "source": [
    "# Lucid Triton Parameters\n",
    "pixel_pitch_mm = 2.4e-3\n",
    "focal_length_mm = 12\n",
    "baseline_mm = 246\n",
    "sensor_width = 5472\n",
    "sensor_height = 3648\n",
    "\n",
    "baseline_error_mm = 0.01\n",
    "\n",
    "ideal_depth_mm = 1000"
   ]
  },
  {
   "cell_type": "code",
   "execution_count": 75,
   "id": "4789fd50",
   "metadata": {},
   "outputs": [],
   "source": [
    "ideal_depth_res = -(pixel_pitch_mm * ideal_depth_mm**2)/(focal_length_mm * baseline_mm)\n",
    "ideal_pixel_disp = (focal_length_mm * baseline_mm)/(ideal_depth_mm * pixel_pitch_mm)\n",
    "depth_lower_err_bound = (focal_length_mm * (baseline_mm - baseline_error_mm))/(ideal_pixel_disp * pixel_pitch_mm)\n",
    "depth_upper_err_bound = (focal_length_mm * (baseline_mm + baseline_error_mm))/(ideal_pixel_disp * pixel_pitch_mm)"
   ]
  },
  {
   "cell_type": "code",
   "execution_count": 76,
   "id": "bbce2383",
   "metadata": {
    "scrolled": true
   },
   "outputs": [
    {
     "name": "stdout",
     "output_type": "stream",
     "text": [
      "Depth resolution at 1000mm: -0.813mm/px\n",
      "Depth Error bounds: ±0.041mm\n"
     ]
    }
   ],
   "source": [
    "print(f\"Depth resolution at {ideal_depth_mm}mm: {ideal_depth_res:.3f}mm/px\")\n",
    "print(f\"Depth Error bounds: ±{ideal_depth_mm - depth_lower_err_bound:.3f}mm\")"
   ]
  },
  {
   "cell_type": "code",
   "execution_count": null,
   "id": "be129fd0",
   "metadata": {},
   "outputs": [],
   "source": []
  }
 ],
 "metadata": {
  "kernelspec": {
   "display_name": "Python 3 (ipykernel)",
   "language": "python",
   "name": "python3"
  },
  "language_info": {
   "codemirror_mode": {
    "name": "ipython",
    "version": 3
   },
   "file_extension": ".py",
   "mimetype": "text/x-python",
   "name": "python",
   "nbconvert_exporter": "python",
   "pygments_lexer": "ipython3",
   "version": "3.9.10"
  }
 },
 "nbformat": 4,
 "nbformat_minor": 5
}
